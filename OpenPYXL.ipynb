{
 "cells": [
  {
   "cell_type": "markdown",
   "metadata": {},
   "source": [
    "After having installed the openpyxl package:\n",
    "\n",
    "<pre>\n",
    "pip install openpyxl\n",
    "or\n",
    "conda install openpyxl\n",
    "</pre>\n",
    "\n",
    "we are able to create a very simple spreadsheet with the following code:"
   ]
  },
  {
   "cell_type": "code",
   "execution_count": 1,
   "metadata": {},
   "outputs": [],
   "source": [
    "from openpyxl import Workbook\n",
    "\n",
    "workbook = Workbook()\n",
    "sheet = workbook.active\n",
    "\n",
    "sheet[\"A1\"] = \"hello\"\n",
    "sheet[\"B1\"] = \"world!\"\n",
    "\n",
    "workbook.save(filename=\"hello_world.xlsx\")"
   ]
  },
  {
   "cell_type": "markdown",
   "metadata": {},
   "source": [
    "The code above should create a file called hello_world.xlsx in the folder you are using to run the code."
   ]
  },
  {
   "cell_type": "markdown",
   "metadata": {},
   "source": [
    "## Reading Excel Spreadsheets With openpyxl\n",
    "\n",
    "The following examples will use a sample dataset: _sample.xlsx_:\n",
    "\n",
    "<img src=\"sales.png\" width=800 height=500 />\n",
    "\n",
    "First you need, to open the spreadsheet sample.xlsx using __load_workbook()__, and then you can use __workbook.sheetnames__ to see all the sheets you have available to work with. \n",
    "\n",
    "After that, __workbook.active__ selects the first available sheet and, in this case, you can see that it selects _Sheet 1_ automatically. \n",
    "\n",
    "__Note__: There are a few arguments you can pass to __load_workbook()__ that change the way a spreadsheet is loaded. The most important ones are the following two Booleans:\n",
    "\n",
    "   __read_only__ loads a spreadsheet in read-only mode allowing you to open very large Excel files.<br>\n",
    "   __data_only__ ignores loading formulas and instead loads only the resulting values."
   ]
  },
  {
   "cell_type": "code",
   "execution_count": 19,
   "metadata": {},
   "outputs": [
    {
     "data": {
      "text/plain": [
       "['Sheet1', 'Other', 'Last']"
      ]
     },
     "execution_count": 19,
     "metadata": {},
     "output_type": "execute_result"
    },
    {
     "data": {
      "text/plain": [
       "<Worksheet \"Sheet1\">"
      ]
     },
     "execution_count": 19,
     "metadata": {},
     "output_type": "execute_result"
    },
    {
     "data": {
      "text/plain": [
       "'Sheet1'"
      ]
     },
     "execution_count": 19,
     "metadata": {},
     "output_type": "execute_result"
    },
    {
     "data": {
      "text/plain": [
       "'A1:P701'"
      ]
     },
     "execution_count": 19,
     "metadata": {},
     "output_type": "execute_result"
    }
   ],
   "source": [
    "from openpyxl import load_workbook\n",
    "\n",
    "workbook = load_workbook(filename=\"sample.xlsx\")\n",
    "workbook.sheetnames\n",
    "sheet = workbook.active\n",
    "sheet\n",
    "sheet.title\n",
    "\n",
    "# Check the used spreadsheet space using the attribute \"dimensions\"\n",
    "sheet.dimensions"
   ]
  },
  {
   "cell_type": "markdown",
   "metadata": {},
   "source": [
    "### Reading Cell Values\n",
    "\n",
    "After opening a spreadsheet, you can easily retrieve data from it's Cells using the __`[]`__ operator.\n",
    "\n",
    "To return the actual value of a cell, you need to use __.value__. \n",
    "\n",
    "You can also use the method __.cell()__ to retrieve a cell using index notation.\n",
    "\n",
    "__Note__: the first row and the first column are at position 1."
   ]
  },
  {
   "cell_type": "code",
   "execution_count": 12,
   "metadata": {},
   "outputs": [
    {
     "data": {
      "text/plain": [
       "<Cell 'Sheet1'.B5>"
      ]
     },
     "execution_count": 12,
     "metadata": {},
     "output_type": "execute_result"
    },
    {
     "data": {
      "text/plain": [
       "'Germany'"
      ]
     },
     "execution_count": 12,
     "metadata": {},
     "output_type": "execute_result"
    },
    {
     "data": {
      "text/plain": [
       "2178"
      ]
     },
     "execution_count": 12,
     "metadata": {},
     "output_type": "execute_result"
    },
    {
     "data": {
      "text/plain": [
       "'Canada'"
      ]
     },
     "execution_count": 12,
     "metadata": {},
     "output_type": "execute_result"
    },
    {
     "data": {
      "text/plain": [
       "'France'"
      ]
     },
     "execution_count": 12,
     "metadata": {},
     "output_type": "execute_result"
    }
   ],
   "source": [
    "sheet[\"B5\"]\n",
    "\n",
    "sheet[\"B5\"].value\n",
    "sheet[\"E4\"].value\n",
    "\n",
    "sheet.cell(row=9, column=2).value\n",
    "sheet.cell(10, 2).value"
   ]
  },
  {
   "cell_type": "markdown",
   "metadata": {},
   "source": [
    "## Iterating Through the Data\n",
    "\n",
    "There are different ways you can iterate through the data depending on your needs.\n",
    "\n",
    "You can slice the data with a combination of columns and rows:"
   ]
  },
  {
   "cell_type": "code",
   "execution_count": 20,
   "metadata": {},
   "outputs": [
    {
     "name": "stdout",
     "output_type": "stream",
     "text": [
      "Government Canada Carretera\n",
      "Government Germany Carretera\n",
      "Midmarket France Carretera\n"
     ]
    },
    {
     "ename": "ValueError",
     "evalue": "A2:A3,B4:B5 is not a valid coordinate or range",
     "output_type": "error",
     "traceback": [
      "\u001b[1;31m---------------------------------------------------------------------------\u001b[0m",
      "\u001b[1;31mValueError\u001b[0m                                Traceback (most recent call last)",
      "\u001b[1;32m<ipython-input-20-112f5779a74f>\u001b[0m in \u001b[0;36m<module>\u001b[1;34m\u001b[0m\n\u001b[0;32m      3\u001b[0m \u001b[1;32mfor\u001b[0m \u001b[0ma\u001b[0m\u001b[1;33m,\u001b[0m\u001b[0mb\u001b[0m\u001b[1;33m,\u001b[0m\u001b[0mc\u001b[0m \u001b[1;32min\u001b[0m \u001b[0mselect1\u001b[0m\u001b[1;33m:\u001b[0m\u001b[1;33m\u001b[0m\u001b[1;33m\u001b[0m\u001b[0m\n\u001b[0;32m      4\u001b[0m     \u001b[0mprint\u001b[0m\u001b[1;33m(\u001b[0m\u001b[0ma\u001b[0m\u001b[1;33m.\u001b[0m\u001b[0mvalue\u001b[0m\u001b[1;33m,\u001b[0m \u001b[0mb\u001b[0m\u001b[1;33m.\u001b[0m\u001b[0mvalue\u001b[0m\u001b[1;33m,\u001b[0m \u001b[0mc\u001b[0m\u001b[1;33m.\u001b[0m\u001b[0mvalue\u001b[0m\u001b[1;33m)\u001b[0m\u001b[1;33m\u001b[0m\u001b[1;33m\u001b[0m\u001b[0m\n\u001b[1;32m----> 5\u001b[1;33m \u001b[0msheet\u001b[0m\u001b[1;33m[\u001b[0m\u001b[1;34m\"A2:A3,B4:B5\"\u001b[0m\u001b[1;33m]\u001b[0m\u001b[1;33m\u001b[0m\u001b[1;33m\u001b[0m\u001b[0m\n\u001b[0m\u001b[0;32m      6\u001b[0m \u001b[1;31m# Get all cells (a tuple) from column A\u001b[0m\u001b[1;33m\u001b[0m\u001b[1;33m\u001b[0m\u001b[1;33m\u001b[0m\u001b[0m\n\u001b[0;32m      7\u001b[0m \u001b[0msheet\u001b[0m\u001b[1;33m[\u001b[0m\u001b[1;34m\"A\"\u001b[0m\u001b[1;33m]\u001b[0m\u001b[1;33m\u001b[0m\u001b[1;33m\u001b[0m\u001b[0m\n",
      "\u001b[1;32mC:\\Anaconda3\\lib\\site-packages\\openpyxl\\worksheet\\worksheet.py\u001b[0m in \u001b[0;36m__getitem__\u001b[1;34m(self, key)\u001b[0m\n\u001b[0;32m    284\u001b[0m             key = str(key\n\u001b[0;32m    285\u001b[0m                       )\n\u001b[1;32m--> 286\u001b[1;33m         \u001b[0mmin_col\u001b[0m\u001b[1;33m,\u001b[0m \u001b[0mmin_row\u001b[0m\u001b[1;33m,\u001b[0m \u001b[0mmax_col\u001b[0m\u001b[1;33m,\u001b[0m \u001b[0mmax_row\u001b[0m \u001b[1;33m=\u001b[0m \u001b[0mrange_boundaries\u001b[0m\u001b[1;33m(\u001b[0m\u001b[0mkey\u001b[0m\u001b[1;33m)\u001b[0m\u001b[1;33m\u001b[0m\u001b[1;33m\u001b[0m\u001b[0m\n\u001b[0m\u001b[0;32m    287\u001b[0m \u001b[1;33m\u001b[0m\u001b[0m\n\u001b[0;32m    288\u001b[0m         \u001b[1;32mif\u001b[0m \u001b[1;32mnot\u001b[0m \u001b[0many\u001b[0m\u001b[1;33m(\u001b[0m\u001b[1;33m[\u001b[0m\u001b[0mmin_col\u001b[0m\u001b[1;33m,\u001b[0m \u001b[0mmin_row\u001b[0m\u001b[1;33m,\u001b[0m \u001b[0mmax_col\u001b[0m\u001b[1;33m,\u001b[0m \u001b[0mmax_row\u001b[0m\u001b[1;33m]\u001b[0m\u001b[1;33m)\u001b[0m\u001b[1;33m:\u001b[0m\u001b[1;33m\u001b[0m\u001b[1;33m\u001b[0m\u001b[0m\n",
      "\u001b[1;32mC:\\Anaconda3\\lib\\site-packages\\openpyxl\\utils\\cell.py\u001b[0m in \u001b[0;36mrange_boundaries\u001b[1;34m(range_string)\u001b[0m\n\u001b[0;32m    133\u001b[0m     \u001b[0mm\u001b[0m \u001b[1;33m=\u001b[0m \u001b[0mABSOLUTE_RE\u001b[0m\u001b[1;33m.\u001b[0m\u001b[0mmatch\u001b[0m\u001b[1;33m(\u001b[0m\u001b[0mrange_string\u001b[0m\u001b[1;33m)\u001b[0m\u001b[1;33m\u001b[0m\u001b[1;33m\u001b[0m\u001b[0m\n\u001b[0;32m    134\u001b[0m     \u001b[1;32mif\u001b[0m \u001b[1;32mnot\u001b[0m \u001b[0mm\u001b[0m\u001b[1;33m:\u001b[0m\u001b[1;33m\u001b[0m\u001b[1;33m\u001b[0m\u001b[0m\n\u001b[1;32m--> 135\u001b[1;33m         \u001b[1;32mraise\u001b[0m \u001b[0mValueError\u001b[0m\u001b[1;33m(\u001b[0m\u001b[0mmsg\u001b[0m\u001b[1;33m)\u001b[0m\u001b[1;33m\u001b[0m\u001b[1;33m\u001b[0m\u001b[0m\n\u001b[0m\u001b[0;32m    136\u001b[0m \u001b[1;33m\u001b[0m\u001b[0m\n\u001b[0;32m    137\u001b[0m     \u001b[0mmin_col\u001b[0m\u001b[1;33m,\u001b[0m \u001b[0mmin_row\u001b[0m\u001b[1;33m,\u001b[0m \u001b[0msep\u001b[0m\u001b[1;33m,\u001b[0m \u001b[0mmax_col\u001b[0m\u001b[1;33m,\u001b[0m \u001b[0mmax_row\u001b[0m \u001b[1;33m=\u001b[0m \u001b[0mm\u001b[0m\u001b[1;33m.\u001b[0m\u001b[0mgroups\u001b[0m\u001b[1;33m(\u001b[0m\u001b[1;33m)\u001b[0m\u001b[1;33m\u001b[0m\u001b[1;33m\u001b[0m\u001b[0m\n",
      "\u001b[1;31mValueError\u001b[0m: A2:A3,B4:B5 is not a valid coordinate or range"
     ]
    }
   ],
   "source": [
    "# Get a range (a tuple of tuple) of cells \n",
    "select1=sheet[\"A2:C4\"]\n",
    "for a,b,c in select1:\n",
    "    print(a.value, b.value, c.value)\n",
    "\n",
    "# Get all cells (a tuple) from column A\n",
    "sheet[\"A\"]\n",
    "\n",
    "# Get all cells (a tuple of tuple) for a range of columns\n",
    "sheet[\"A:B\"]\n",
    "\n",
    "# Get all cells (a tuple) from row 5\n",
    "sheet[5]\n",
    "\n",
    "# Get all cells (a tuple of tuple) for a range of rows\n",
    "sheet[5:6]\n"
   ]
  },
  {
   "cell_type": "markdown",
   "metadata": {},
   "source": [
    "You also go through the data via the methods:\n",
    "\n",
    "__iter_rows()__<br>\n",
    "__iter_cols()__<br>\n",
    "\n",
    "Both methods can receive the following arguments:\n",
    "\n",
    "__min_row__, __max_row__, __min_col__, __max_col__\n",
    "\n",
    "These arguments are used to set boundaries for the iteration.\n",
    "\n",
    "One additional argument you can pass to both methods is the Boolean __values_only__. When it’s set to True, the values of the cell are returned, instead of the Cell object.\n",
    "\n",
    "__Note__: the 2 attributes __max_row__ and __max_column__ do contain the maximum row/column index containing data.\n"
   ]
  },
  {
   "cell_type": "code",
   "execution_count": 52,
   "metadata": {},
   "outputs": [
    {
     "name": "stdout",
     "output_type": "stream",
     "text": [
      "701 16\n",
      "Row 1:\n",
      "A2 is Government\n",
      "B2 is Canada\n",
      "C2 is Carretera\n",
      "\n",
      "Row 2:\n",
      "A3 is Government\n",
      "B3 is Germany\n",
      "C3 is Carretera\n",
      "\n",
      "Col 1:\n",
      "Government\n",
      "Government\n",
      "\n",
      "Col 2:\n",
      "Canada\n",
      "Germany\n",
      "\n",
      "Col 3:\n",
      "Carretera\n",
      "Carretera\n",
      "\n"
     ]
    }
   ],
   "source": [
    "\n",
    "\n",
    "ix=1\n",
    "for row in sheet.iter_rows(min_row=2,\n",
    "                           max_row=3,\n",
    "                           min_col=1,\n",
    "                           max_col=3):\n",
    "    print(f\"Row {ix}:\", sep=\" \")\n",
    "    for c in row:\n",
    "        print(f\"{c.coordinate} is {c.value}\", sep=\" \")\n",
    "    print()\n",
    "    ix+=1\n",
    "    \n",
    "ix=1\n",
    "for col in sheet.iter_cols(min_row=2,\n",
    "                           max_row=3,\n",
    "                           min_col=1,\n",
    "                           max_col=3,\n",
    "                           values_only=True):\n",
    "    print(f\"Col {ix}:\", sep=\" \")\n",
    "    for c in col:\n",
    "        print(c, sep=\" \")\n",
    "    print()\n",
    "    ix+=1"
   ]
  },
  {
   "cell_type": "markdown",
   "metadata": {},
   "source": [
    "If you want to iterate through the whole dataset, then you can also use the attributes __rows__ or __columns__ directly,"
   ]
  },
  {
   "cell_type": "code",
   "execution_count": 50,
   "metadata": {},
   "outputs": [
    {
     "name": "stdout",
     "output_type": "stream",
     "text": [
      "Segment Country Product Discount Band Units Sold Manufacturing Price Sale Price Gross Sales Discounts  Sales COGS Profit Date Month Number Month Name Year \n",
      "Government Canada Carretera None 1618.5 3 20 32370 0 32370 16185 16185 2014-01-01 00:00:00 1 January 2014 \n",
      "Government Germany Carretera None 1321 3 20 26420 0 26420 13210 13210 2014-01-01 00:00:00 1 January 2014 \n",
      "Midmarket France Carretera None 2178 3 15 32670 0 32670 21780 10890 2014-06-01 00:00:00 6 June 2014 \n",
      "Midmarket Germany Carretera None 888 3 15 13320 0 13320 8880 4440 2014-06-01 00:00:00 6 June 2014 \n",
      "Segment Government Government Midmarket \n",
      "Country Canada Germany France \n",
      "Product Carretera Carretera Carretera \n",
      "Discount Band None None None \n",
      "Units Sold 1618.5 1321 2178 \n",
      "Manufacturing Price 3 3 3 \n",
      "Sale Price 20 20 15 \n",
      "Gross Sales 32370 26420 32670 \n",
      "Discounts 0 0 0 \n",
      " Sales 32370 26420 32670 \n",
      "COGS 16185 13210 21780 \n",
      "Profit 16185 13210 10890 \n",
      "Date 2014-01-01 00:00:00 2014-01-01 00:00:00 2014-06-01 00:00:00 \n",
      "Month Number 1 1 6 \n",
      "Month Name January January June \n",
      "Year 2014 2014 2014 \n"
     ]
    }
   ],
   "source": [
    "from operator import attrgetter\n",
    "\n",
    "for arow in sheet.rows:\n",
    "    for v in map(attrgetter('value'), arow):\n",
    "        print (v, end= \" \")\n",
    "    if arow[0].row==5: \n",
    "        break\n",
    "    print()\n",
    "    \n",
    "print()\n",
    "\n",
    "for acol in sheet.columns:\n",
    "    for v in (c.value for c in acol[:4]):\n",
    "        print (v, end= \" \")\n",
    "   \n",
    "    print()"
   ]
  },
  {
   "cell_type": "markdown",
   "metadata": {},
   "source": [
    "## Adding and Updating Cell Values\n",
    "\n",
    "You already learned how to add values to a spreadsheet like this:"
   ]
  },
  {
   "cell_type": "code",
   "execution_count": null,
   "metadata": {},
   "outputs": [],
   "source": [
    "sheet[\"A1\"] = \"value\""
   ]
  },
  {
   "cell_type": "markdown",
   "metadata": {},
   "source": [
    "There’s another way you can do this, by first selecting a cell and then changing its value:"
   ]
  },
  {
   "cell_type": "code",
   "execution_count": null,
   "metadata": {},
   "outputs": [],
   "source": [
    "cell = sheet[\"A1\"]\n",
    "cell.value\n",
    "cell.value = \"hey\"\n",
    "cell.value"
   ]
  },
  {
   "cell_type": "markdown",
   "metadata": {},
   "source": [
    "__Note__: The new value is only stored into the spreadsheet once you call __workbook.save()__.\n",
    "\n",
    "__openpyxl__ creates a cell when adding a value, if that cell didn’t exist before:"
   ]
  },
  {
   "cell_type": "code",
   "execution_count": 1,
   "metadata": {},
   "outputs": [
    {
     "name": "stdout",
     "output_type": "stream",
     "text": [
      "['notification', 'registration', 'home', 'allEvents', 'cart', 'account', 'event', 'product', 'navigation', 'footer', 'FAQ', 'other']\n",
      "['notification', 'registration', 'home', 'allEvents', 'cart', 'account', 'event', 'product', 'navigation', 'footer', 'FAQ', 'other'] <class 'list'>\n",
      "lang:en->1\n",
      "Section: notification\n",
      "Section: registration\n",
      "Section: home\n",
      "Section: allEvents\n",
      "Section: cart\n",
      "Section: account\n",
      "Section: event\n",
      "Section: product\n",
      "Section: navigation\n",
      "Section: footer\n",
      "Section: FAQ\n",
      "Section: other\n",
      "lang:fr->2\n",
      "Section: notification\n",
      "Section: registration\n",
      "Section: home\n",
      "Section: allEvents\n",
      "Section: cart\n",
      "Section: account\n",
      "Section: event\n",
      "Section: product\n",
      "Section: navigation\n",
      "Section: footer\n",
      "Section: FAQ\n",
      "Section: other\n",
      "lang:ja->3\n",
      "Section: notification\n",
      "Section: registration\n",
      "Section: home\n",
      "Section: allEvents\n",
      "Section: cart\n",
      "Section: account\n",
      "Section: event\n",
      "Section: product\n",
      "Section: navigation\n",
      "Section: footer\n",
      "Section: FAQ\n",
      "Section: other\n",
      "{'en': {'notification': {'unableLang': \"We were unable to retrieve the list of languages.'\", 'unableQuotas': \"We were unable to retrieve the Quotas for this Event/Market.'\", 'unableLastEvent': '\"We were unable to retrieve the last event.\"', 'unableEvent': '\"We were unable to retrieve the event.\"', 'unableLastEvent2': '\"We were unable to retrieve the last event: {{vue.selectedUrlEvent}}\"', 'unableEventMarkets': '\"We were unable to retrieve the event markets.\"', 'unableMarkets': '\"We were unable to retrieve the markets.\"', 'unablePreviousOrders': '\"We were unable to retrieve previous orders for this user.\"', 'unableEvents': '\"We were unable to retrieve the events.\"', 'unableProductsCart': '\"We were unable to retrieve products from your cart.\"', 'unableProductsEvent': '\"We were unable to retrieve products for this event.\"', 'unableMetrics': '\"We were unable to retrieve the available metrics products.\"', 'unableEventOrders': '\"We were unable to retrieve the event orders.\"', 'unableMedia': '\"We were unable to retrieve the associated media.\"', 'unableUser': '\"We were unable to retrieve the user from AD.\"', 'unableConnectAD': '\"We were unable to connect you through Active Directory.\"', 'errorSavingReg': '\"An error occured while saving your registration. Please try again later\"', 'errorSavinguser': '\"We were unable to save the user.\"', 'errorMedia': '\"An error occured when retrieving associated media\"'}, 'registration': {'login': '\"Login\"', 'name': '\"Display Name\"', 'email': '\"Email\"', 'workingArea': '\"Working Area\"', 'conditions': '\"`I accept the terms and conditions`\"'}, 'home': {'exploreBoutique': \"'Explore the e-boutique'\", 'yourCart': \"'Your cart'\", 'yourPreviousOrders': \"'Your orders'\", 'admin': \"'Admin'\"}, 'allEvents': {'title': \"'E-boutique'\", 'backHome': \"'Back to home'\", 'welcomeMessage': \"'Dear <b>{userName}</b>, welcome to Piaget Sales e-boutique! Please find the available sales below.'\", 'dateSales': \"'From {dateBegin} to {dateEnd}\"}, 'cart': {'firstName': \"'First Name'\", 'lastName': \"'Last Name'\", 'comment1': \"'If needed enter here any comment about your order'\", 'comment2': \"'Your comments'\", 'subTotal': \"'Sub-total ({{productEvents.length}} items): &nbsp;&nbsp; '\", 'notAvailable': \"'Your cart contains an article that isn\\\\'t available anymore. Please remove it to confirm your order.'\", 'qtyExceeded': \"'Sorry, your cart exceeds the quantity of articles available per person.'\", 'priceComment': \"'The price and availability of items of this sale are subject to change. The Cart is a temporary place to store a list of your items and reflects each item\\\\'s most recent price and stocks.'\", 'salesPolicy': \"'Sales Policy'\", 'salesConditions': \"'Sales Conditions – Exceptional Sale'\", 'acceptance': '\"`I accept the terms and conditions`\"', 'confirmOrder': \"'Confirm order'\", 'qty': \"'Qty'\", 'staffSales': \"'Staff sales'\", 'remove': \"'Remove'\", 'previousOrders': \"'See my previous orders'\", 'confirmationEmail': \"'A confirmation e-mail has been sent to your address '\", 'confirmationEmailNotFound': \"'Can\\\\'t find your confirmation e-mail ?'\", 'pleaseContact': \"'Please contact '\", 'thankYou': \"'Thank you for your order'\", 'backToStaffSales': \"'Back to sales'\", 'yourCart': \"'Your cart'\", 'pleaseConfirm': \"'Dear <b>{userName}</b>, please confirm your order below.'\", 'noArticles': \"'You don\\\\'t have any article in your cart,'\", 'pleaseBrowse': \"'Why don\\\\'t you take a moment to browse the sales ?'\", 'checkStaffSales': \"'Check it out !'\", 'tooltipComment': \"'e.g.: internal mobility in progress, family relationship of the beneficiary,…'\", 'tooltipBenef': \"'In the event of a gift purchase for a family member or close friend, please indicate their first and last name'\"}, 'account': {'title': \"Your orders'\", 'backToStaffSales': \"Back to sales'\", 'checkOrders': \"Dear <b>{userName}</b>, please check here your orders.'\", 'noOrders': \"You don\\\\'t have any orders pending,'\", 'pleaseBrowse': \"why don\\\\'t you take a moment to browse the sales ?'\", 'checkStaffSales': \"Check it out !'\", 'yourEmail': \"Your contact address:'\", 'contactEmail': 'Can\\\\\\'t find your order? An error in your name or contact address? Please contact <a class=\"email\" href=\"mailto:{staffEmail}\">{staffEmail}</a>\\'', 'orderId': \"Order Id'\", 'orderDate': \"Order Date'\", 'totalAmount': \"Total Amount'\", 'status': \"Status'\", 'seeDetail': \"See detail'\", 'detail': \"Detail'\", 'image': \"Image'\", 'reference': \"Reference'\", 'description': \"Description'\", 'event': \"Event'\", 'price': \"Price'\", 'quantity': \"Quantity'\", 'desiredQty': \"Desired Quantity'\", 'acceptedQty': \"Accepted Quantity'\", 'yourComment': \"Your comment: '\", 'beneficiary': \"Beneficiary'\"}, 'event': {'backToStaffSales': \"'Retour aux ventes'\", 'soldOut': \"'(épuisé)'\", 'notAvailable': \"'Désolé, cette vente n\\\\'est pas ouverte pour le moment'\"}, 'product': {'size': '\"Select your size:\"', 'metric': '\"Available metrics\"', 'backToStaffSales': \"'Back to sales'\", 'sorryNotAvailable': \"'Sorry, this staff sale is not available at the moment.'\", 'backToEvent': \"'Back to {eventName}'\", 'description': \"'Description'\", 'pricing': \"'Pricing'\", 'salesPrice': \"'Sales price'\", 'specialPrice': \"'Special price'\", 'pricingNotAvailable': \"'Pricing is not available on this model at the moment.'\", 'availability': \"'Availability'\", 'fewPiecesLeft': \"'Very few pieces left.'\", 'onePieceLeft': \"'Only one piece left.'\", 'soldOut': \"'Sold-out.'\", 'addToCart': \"'Add {referenceName} to cart'\", 'sorrySoldOut': '\\'<span><br />Sorry, this article is </span><span class=\"special-price\">sold-out</span>\\'', 'refAddedToCart': '\\'<span>Reference </span><span class=\"reference-added\">{referenceName}</span><span> has been added to your cart.</span>\\'', 'orderCurrentlyLimited': \"'Orders are currently limited to {orderLimit} article(s) per person.'\", 'eventCurrentlyLimited': \"'This event is limited to {orderLimit} article(s) per person.'\", 'productLimitedQuantity': \"'This product is available in limited quantity.'\", 'eventHasEnded': \"'This event has ended. You are not able to place order anymore.'\", 'seeCart': \"'See your cart ({cartLength})'\", 'mediaLinks': \"'Medias links'\", 'clickOnThumbnails': \"'Click on the thumbnails to see the images in fullscreen:'\", 'itemMayDiffer': \"' * Item may differ from photography'\", 'taxIncluded': \"'(tax. incl.)'\", 'taxExcluded': \"'(tax. excl.)'\", 'quantity': \"'Quantity'\", 'zoomImg': \"'Hover over the picture to see more'\", 'sizer': \"'Download ring sizer'\", 'sizerDocName': \"'Piaget-Ring-sizer-GB.pdf'\"}, 'navigation': {'home': \"'Home'\", 'eboutique': \"'E-boutique'\", 'cart': \"'Cart ({itemsCount} items)'\", 'previousOrders': \"'Your orders'\", 'admin': \"Admin'\"}, 'footer': {'copyright': \"'Copyright'\"}, 'FAQ': {'title': 'FAQ', 'contactEmail': '\\'Can\\\\\\'t find your the answer you are looking for ? Please contact <a class=\"email\" href=\"mailto:{staffEmail}\">{staffEmail}</a>\\''}, 'other': {'authentication': \"'Authentication ...'\", 'pleaseWait': \"'Please wait ...'\"}}, 'fr': {'notification': {'unableLang': \"Impossible de récupérer la liste des langues.'\", 'unableQuotas': \"Impossible de récupérer les quotas pour cet événement / ce marché.'\", 'unableLastEvent': '\"Impossible de récupérer le dernier événement.\"', 'unableEvent': '\"Impossible de récupérer l’événement.\"', 'unableLastEvent2': '\"Impossible de récupérer le dernier événement\\xa0: {{vue.selectedUrlEvent}}\"', 'unableEventMarkets': '\"Impossible de récupérer les marchés de l’événement.\"', 'unableMarkets': '\"Impossible de récupérer les marchés.\"', 'unablePreviousOrders': '\"Impossible de récupérer les commandes précédentes pour cet utilisateur.\"', 'unableEvents': '\"Impossible de récupérer les événements.\"', 'unableProductsCart': '\"Impossible de récupérer les produits de votre panier.\"', 'unableProductsEvent': '\"Impossible de récupérer les produits pour cet événement.\"', 'unableMetrics': '\"Impossible de récupérer les tailles disponibles pour ce produit.\"', 'unableEventOrders': '\"Impossible de récupérer les commandes de l’événement.\"', 'unableMedia': '\"Impossible de récupérer les médias associés.\"', 'unableUser': '\"Impossible de récupérer l’utilisateur de l’AD.\"', 'unableConnectAD': '\"Impossible de vous connecter à l’Active Directory.\"', 'errorSavingReg': '\"Une erreur s’est produite lors de l’enregistrement de votre inscription. Veuillez réessayer plus tard\"', 'errorSavinguser': '\"Impossible d’enregistrer l’utilisateur.\"', 'errorMedia': '\"Une erreur s’est produite lors de la récupération des médias associés\"'}, 'registration': {'login': '\"Se connecter\"', 'name': '\"Nom\"', 'email': '\"E-mail\"', 'workingArea': '\"Profession\"', 'conditions': '\"J’accepte les conditions générales\"'}, 'home': {'exploreBoutique': \"'Explorez notre e-boutique'\", 'yourCart': \"'Votre panier'\", 'yourPreviousOrders': \"'Vos commandes'\", 'admin': \"Admin'\"}, 'allEvents': {'title': \"'E-boutique'\", 'backHome': \"Page d'accueil'\", 'welcomeMessage': \"Bonjour <b>{userName}</b>, bienvenue sur notre e-boutique ! Veuillez trouver ci-dessous les ventes disponibles.'\", 'dateSales': \"'Du {dateBegin} au {dateEnd}'\"}, 'cart': {'firstName': \"Prénom'\", 'lastName': \"Nom'\", 'comment1': \"Si besoin, vous pouvez ajouter ici un commentaire à votre commande'\", 'comment2': \"Vos commentaires'\", 'subTotal': \"Sous-total ({{productEvents.length}} article(s))\\xa0: &nbsp;&nbsp; '\", 'notAvailable': \"Votre panier contient un article qui n’est plus disponible. Veuillez le supprimer pour confirmer votre commande.'\", 'qtyExceeded': \"Nous sommes désolés, votre panier dépasse la quantité d’articles disponibles par personne.'\", 'priceComment': \"Le prix et la disponibilité des articles de cette vente sont susceptibles de changer. Votre panier conserve temporairement vos articles sélectionnés et indique le prix et les stocks actuels de chaque produit.'\", 'salesPolicy': \"Politique de vente'\", 'salesConditions': \"Conditions de vente – Vente exceptionnelle'\", 'acceptance': '\"J’accepte les conditions générales\"', 'confirmOrder': \"Confirmer la commande'\", 'qty': \"Qté'\", 'staffSales': \"Ventes au personnel'\", 'remove': \"Retirer'\", 'previousOrders': \"Voir mes commandes précédentes'\", 'confirmationEmail': \"Un e-mail de confirmation a été envoyé à votre adresse'\", 'confirmationEmailNotFound': \"Vous ne trouvez pas votre e-mail de confirmation ?'\", 'pleaseContact': \"Veuillez contacter'\", 'thankYou': \"Merci pour votre commande'\", 'backToStaffSales': \"Retour aux ventes'\", 'yourCart': \"Votre panier'\", 'pleaseConfirm': \"Cher/Chère <b>{userName}</b>, merci de bien vouloir confirmer votre commande ci-dessous.'\", 'noArticles': \"Votre panier est vide,'\", 'pleaseBrowse': \"c’est le moment de parcourir nos articles soldés\\xa0!'\", 'checkStaffSales': \"Profitez-en\\xa0!'\", 'tooltipComment': \"Par exemple\\xa0: mobilité interne en cours, lien de parenté du bénéficiaire…'\", 'tooltipBenef': \"S’il s’agit d’un cadeau pour un membre de votre famille ou un ami, veuillez indiquer son nom et son prénom'\"}, 'account': {'title': \"'Vos Commandes'\", 'backToStaffSales': \"'Retour aux ventes'\", 'checkOrders': \"Cher/Chère <b>{userName}</b>, veuillez trouver ci-dessous vos commandes.'\", 'noOrders': \"'Il semblerait que vous n\\\\'ayez aucune commande en attente.'\", 'pleaseBrowse': \"'Prenez donc un moment pour aller voir nos ventes !'\", 'checkStaffSales': \"'Voir les ventes !'\", 'yourEmail': \"Votre adresse de contact :'\", 'contactEmail': 'Vous ne trouvez pas votre commande ? Il y a une erreur dans votre nom ou adresse ? Contactez <a class=\"email\" href=\"mailto:{staffEmail}\">{staffEmail}</a>\\'', 'orderId': \"'Id Commande'\", 'orderDate': \"'Date'\", 'totalAmount': \"'Montant total'\", 'status': \"'Status'\", 'seeDetail': \"'Voir le détail'\", 'detail': \"'Détail'\", 'image': \"'Image'\", 'reference': \"Référence'\", 'description': \"'Description'\", 'event': \"Vente'\", 'price': \"'Prix'\", 'quantity': \"Quantité'\", 'desiredQty': \"'Quantité souhaitée'\", 'acceptedQty': \"'Quantité acceptée'\", 'yourComment': \"Votre commentaire :'\", 'beneficiary': \"'Bénéficiaire'\"}, 'event': {'backToStaffSales': \"'Retour aux ventes'\", 'soldOut': \"'(épuisé)'\", 'notAvailable': \"Désolé, cette vente n'est pas ouverte pour le moment'\"}, 'product': {'size': '\"Sélectionnez votre taille\\xa0:\"', 'metric': '\"Tailles disponibles\"', 'backToStaffSales': \"Retour aux ventes'\", 'sorryNotAvailable': \"Désolé, cette vente au personnel n'est pas accessible pour le moment.'\", 'backToEvent': \"'Retour vers {eventName}'\", 'description': \"'Description'\", 'pricing': \"'Prix'\", 'salesPrice': \"'Prix standard'\", 'specialPrice': \"'Prix spécial'\", 'pricingNotAvailable': \"Le prix n'est pas disponible sur ce modèle pour le moment.'\", 'availability': \"'Disponibilité'\", 'fewPiecesLeft': \"Plus que quelques pièces disponibles.'\", 'onePieceLeft': \"Plus qu'une pièce disponible.'\", 'soldOut': \"Épuisé.'\", 'addToCart': \"'Ajouter la réf. {referenceName} au panier'\", 'sorrySoldOut': '\\'<span><br />Désolé, cet article est </span><span class=\"special-price\">épuisé</span>\\'', 'refAddedToCart': '\\'<span>La référence </span><span class=\"reference-added\">{referenceName}</span><span> a été ajoutée à votre panier.</span>\\'', 'orderCurrentlyLimited': \"'Les commandes sont limitées à {orderLimit} article(s) par personne.'\", 'eventCurrentlyLimited': \"'Cette vente est limitée à {{selectedEvent.OrderLimit}} article(s) par personne.'\", 'productLimitedQuantity': \"Ce produit est disponible en quantités limitées.'\", 'eventHasEnded': \"Cette vente est terminée. Il n'est plus possible de passer une commande.'\", 'seeCart': \"'Voir le panier ({cartLength})'\", 'mediaLinks': \"Médias'\", 'clickOnThumbnails': \"Cliquez sur les images pour les voir en plein écran :'\", 'itemMayDiffer': \" *  L'article peut différer de la photographie'\", 'taxIncluded': \"(tax. incl.)'\", 'taxExcluded': \"'(tax. excl.)'\", 'quantity': \"'Quantité'\", 'zoomImg': \"'Survolez l’image pour en voir plus'\", 'sizer': \"'Télécharger le guide de tailles'\", 'sizerDocName': \"'Piaget-Ring-sizer-FR.pdf'\"}, 'navigation': {'home': \"Accueil'\", 'eboutique': \"'E-boutique'\", 'cart': \"'Panier ({itemsCount} articles)'\", 'previousOrders': \"'Vos commandes'\", 'admin': \"Admin'\"}, 'footer': {'copyright': \"'Copyright'\"}, 'FAQ': {'title': 'FAQ', 'contactEmail': 'Vous ne trouvez pas la réponse à votre question\\xa0? Veuillez contacter <a class=\"email\" href=\"mailto:{staffEmail}\">{staffEmail}</a>\\''}, 'other': {'authentication': \"Authentification…'\", 'pleaseWait': \"'Veuillez patienter ...'\"}}, 'ja': {'notification': {'unableLang': '言語リストが見つかりません。', 'unableQuotas': 'このイベント/マーケットの割り当てが見つかりません。', 'unableLastEvent': '最後のイベントが見つかりません。', 'unableEvent': '対象のイベントが見つかりません。', 'unableLastEvent2': '最後のイベント{{vue.selectedUrlEvent}}が見つかりません。 ', 'unableEventMarkets': 'イベントマーケットが見つかりません。', 'unableMarkets': '対象のマーケットが見つかりません。', 'unablePreviousOrders': 'このユーザーの以前の注文が見つかりません。', 'unableEvents': '対象のイベントが見つかりません。', 'unableProductsCart': 'あなたのカートに製品が見つかりません。', 'unableProductsEvent': 'このイベントの製品が見つかりません。', 'unableMetrics': 'この製品で利用可能なサイズが見つかりません。', 'unableEventOrders': 'イベントの注文が見つかりません。', 'unableMedia': '関連媒体が見つかりません。', 'unableUser': 'ADにユーザーが見つかりません。', 'unableConnectAD': 'Active Directoryを介して接続できません。', 'errorSavingReg': '登録を保存中にエラーが発生しました。後ほど再度お試しください。', 'errorSavinguser': 'ユーザーを保存できませんでした。', 'errorMedia': '関連媒体を検索中にエラーが発生しました。'}, 'registration': {'login': 'ログイン', 'name': '名前を表示する', 'email': 'メール', 'workingArea': '専門領域', 'conditions': '「販売条件について承諾します」'}, 'home': {'exploreBoutique': \"E-ブティックを見る'\", 'yourCart': \"あなたのカート'\", 'yourPreviousOrders': \"あなたの注文'\", 'admin': \"アドミン'\"}, 'allEvents': {'title': \"E-ブティック'\", 'backHome': \"ホームへ戻る'\", 'welcomeMessage': \"{userName}さん、ピアジェのE-ブティックへようこそ！現在販売中の下記製品をご覧ください。'\", 'dateSales': \"{dateBegin}から{dateEnd}まで'\"}, 'cart': {'firstName': '名', 'lastName': '姓', 'comment1': 'ご注文について何かあればこの欄にご記入ください。', 'comment2': 'コメント', 'subTotal': '小計（{{productEvents.length}} 点）： &nbsp;&nbsp; ', 'notAvailable': 'あなたのカートには、お買い求めいただけなくなった製品が入っています。該当する製品を削除して注文を確定してください。', 'qtyExceeded': 'お一人様が注文できる製品の数を超える製品がカートに入っています。', 'priceComment': 'この販売において、価格や在庫状況が変更される場合があります。カートはあなたの製品リストを一時的に保存する場所であり、各製品の直近の価格と在庫状況が反映されています。', 'salesPolicy': '販売ポリシー', 'salesConditions': '販売条件 – 例外事項', 'acceptance': '「販売条件について承諾します」', 'confirmOrder': '注文を確定する', 'qty': '数量', 'staffSales': 'スタッフ販売', 'remove': '消去', 'previousOrders': \"以前の注文を見る'\", 'confirmationEmail': \"確認メールがあなたのアドレスに送信されました'\", 'confirmationEmailNotFound': \"確認メールが見つかりませんか？'\", 'pleaseContact': \"お問い合わせください'\", 'thankYou': \"ご注文いただきありがとうございます'\", 'backToStaffSales': \"販売に戻る'\", 'yourCart': 'あなたのカート', 'pleaseConfirm': '<b>{userName}</b>さん、以下のご注文を確定してください。', 'noArticles': 'カートに何も製品が入っていません。', 'pleaseBrowse': '少しだけ製品をご覧になりませんか？', 'checkStaffSales': 'ご確認ください！', 'tooltipComment': '例：進行中の内部移動、受け取る方との家族関係・・・', 'tooltipBenef': 'ご家族または親しいお友達へのプレゼントとしてご購入なさる場合は、受け取る方の姓名を入力してください。'}, 'account': {'title': \"あなたの注文'\", 'backToStaffSales': \"販売へ戻る'\", 'checkOrders': \"<b>{userName}</b>さん、こちらであなたの注文を確認してください。'\", 'noOrders': \"保留中の注文はありません、'\", 'pleaseBrowse': \"少しだけ製品をご覧になりませんか？'\", 'checkStaffSales': \"見てみましょう！'\", 'yourEmail': \"あなたのアドレス:'\", 'contactEmail': 'ご注文情報が見つかりませんか？お名前やアドレスに間違いはありませんか？<a class=\"email\" href=\"mailto:{staffEmail}\">{staffEmail}</a>までお問い合わせください。\\'', 'orderId': \"注文ID'\", 'orderDate': \"注文日'\", 'totalAmount': \"合計'\", 'status': \"ステータス'\", 'seeDetail': \"詳細を見る'\", 'detail': \"詳細'\", 'image': \"イメージ'\", 'reference': \"参考製品'\", 'description': \"説明'\", 'event': \"イベント'\", 'price': \"価格'\", 'quantity': \"数量'\", 'desiredQty': 'ご希望の数量', 'acceptedQty': '受理された数量', 'yourComment': 'コメント： ', 'beneficiary': '受け取る方'}, 'event': {'backToStaffSales': \"販売に戻る'\", 'soldOut': \"(売り切れ)'\", 'notAvailable': \"申し訳ございません、現在このスタッフ販売はご利用いただけません。'\"}, 'product': {'size': '\"サイズを選択：\"', 'metric': '\"利用可能なサイズ\"', 'backToStaffSales': \"'販売に戻る'\", 'sorryNotAvailable': \"申し訳ございません、現在このスタッフ販売はご利用いただけません。'\", 'backToEvent': \"'{eventName}に戻る'\", 'description': \"'説明'\", 'pricing': \"'価格'\", 'salesPrice': \"'販売価格'\", 'specialPrice': \"'特別価格'\", 'pricingNotAvailable': \"'このモデルには現在価格がついていません。'\", 'availability': \"'在庫状況'\", 'fewPiecesLeft': \"'残りわずか。'\", 'onePieceLeft': \"'残り1点のみ。'\", 'soldOut': \"'売り切れ。'\", 'addToCart': \"カートに{referenceName}を入れる'\", 'sorrySoldOut': '\\'<span><br />本品は</span><span class=\"special-price\">売り切れました</span>\\'', 'refAddedToCart': '\\'<span>参考製品 </span><span class=\"reference-added\">{referenceName}</span><span> がカートに追加されました。</span>\\'', 'orderCurrentlyLimited': '現在お一人様が注文できる製品の数{orderLimit}に制限があります。', 'eventCurrentlyLimited': 'このイベントは現在お一人様が注文できる製品の数{orderLimit}を制限しています。', 'productLimitedQuantity': '本品は数量限定となります。', 'eventHasEnded': 'このイベントは終了しました。これ以上はご注文いただけません。', 'seeCart': 'カートをご確認ください ({cartLength})', 'mediaLinks': '媒体リンク', 'clickOnThumbnails': 'サムネイルをクリックして画像を全画面モードで見る：', 'itemMayDiffer': ' * 製品は写真と異なる場合があります。', 'taxIncluded': '（税込）', 'taxExcluded': '（税抜）', 'quantity': '数量', 'zoomImg': '写真にカーソルを合わせると詳細が表示されます', 'sizer': 'リングサイズガイドをダウンロード', 'sizerDocName': 'Piaget-Ring-sizer-GB.pdf'}, 'navigation': {'home': \"ホーム'\", 'eboutique': \"E-ブティック'\", 'cart': \"カート ({itemsCount} 商品)'\", 'previousOrders': \"あなたの注文'\", 'admin': 'アドミン'}, 'footer': {'copyright': \"著作権'\"}, 'FAQ': {'title': 'よくある質問', 'contactEmail': 'お探しの答えが見つかりませんか？<a class=\"email\" href=\"mailto:{staffEmail}\">{staffEmail}</a>までお問い合わせください。'}, 'other': {'authentication': \"認証・・・'\", 'pleaseWait': \"少々お待ちください...'\"}}}\n"
     ]
    }
   ],
   "source": [
    "from openpyxl import load_workbook\n",
    "\n",
    "workbook = load_workbook(filename=r\"C:\\Users\\jpf\\translation2.xlsx\")\n",
    "print(workbook.sheetnames)\n",
    "sheet=workbook['notification']\n",
    "languages=[c.value for c in sheet[1][1:]]\n",
    "sections=workbook.sheetnames\n",
    "print(sections, type(sections))\n",
    "dicoLevel1={}\n",
    "for index, lang in enumerate(languages):\n",
    "    index += 1\n",
    "    print(f\"lang:{lang}->{index}\")\n",
    "    dicoLevel2={}\n",
    "    for s in sections:\n",
    "        print(f\"Section: {s}\")\n",
    "        ws=workbook[s]\n",
    "        dicoLevel3={}\n",
    "        for r in ws.iter_rows(min_row=2):\n",
    "            if r[0].value is None:\n",
    "                break\n",
    "            dicoLevel3[r[0].value]='' if r[index].value==None else r[index].value\n",
    "        dicoLevel2[s]=dicoLevel3\n",
    "    dicoLevel1[lang]=dicoLevel2\n",
    "    \n",
    "print(dicoLevel1)\n",
    "            \n",
    "            "
   ]
  },
  {
   "cell_type": "markdown",
   "metadata": {},
   "source": [
    "### Managing Rows and Columns\n",
    "\n",
    "One of the most common things you have to do when manipulating spreadsheets is *adding* or *removing* rows and columns. \n",
    "\n",
    "The openpyxl package allows you to do that in a very straightforward way by using the methods:\n",
    "\n",
    "    insert_rows()\n",
    "    delete_rows()\n",
    "    insert_cols()\n",
    "    delete_cols()\n",
    "    \n",
    "These methods can receive two arguments:\n",
    "\n",
    "    1. idx: position of the insertion/deletion (the insertion happens before this value)\n",
    "    2. amount: number of row/column to insert/delete"
   ]
  },
  {
   "cell_type": "code",
   "execution_count": 7,
   "metadata": {},
   "outputs": [
    {
     "name": "stdout",
     "output_type": "stream",
     "text": [
      "('hello', 'world!')\n",
      "(None, 'hello', 'world!')\n",
      "(None, 'hello', None, None, None, None, None, 'world!')\n",
      "(None, None, None, None, None, None, None, None)\n",
      "(None, None, None, None, None, None, None, None)\n",
      "(None, 'hello', None, None, None, None, None, 'world!')\n",
      "('hello', 'world!')\n"
     ]
    }
   ],
   "source": [
    "import openpyxl as pyxl\n",
    "\n",
    "workbook = pyxl.Workbook()\n",
    "sheet = workbook.active\n",
    "\n",
    "def print_rows(sh):\n",
    "    for row in sh.iter_rows(values_only=True):\n",
    "        print(row)\n",
    "        \n",
    "sheet[\"A1\"] = \"hello\"\n",
    "sheet[\"B1\"] = \"world!\"\n",
    "\n",
    "print_rows(sheet)\n",
    "\n",
    "# Insert a column before the existing column 1 (\"A\")\n",
    "sheet.insert_cols(idx=1)\n",
    "print_rows(sheet)\n",
    "\n",
    "\n",
    "# Insert 5 columns between column 2 (\"B\") and 3 (\"C\")\n",
    "sheet.insert_cols(idx=3, amount=5)\n",
    "print_rows(sheet)\n",
    "\n",
    "# Insert 2 columns before row 1 \n",
    "sheet.insert_rows(idx=1, amount=2)\n",
    "print_rows(sheet)\n",
    "\n",
    "# Delete the created columns\n",
    "sheet.delete_cols(idx=3, amount=5)\n",
    "sheet.delete_cols(idx=1)\n",
    "\n",
    "# Delete the created rows\n",
    "sheet.delete_rows(idx=1, amount=2)\n",
    "\n",
    "print_rows(sheet)\n"
   ]
  },
  {
   "cell_type": "markdown",
   "metadata": {},
   "source": [
    "## Managing Sheets\n",
    "\n",
    "`sheet = workbook.active`\n",
    "\n",
    "is the way to select the default sheet from a spreadsheet. \n",
    "\n",
    "You can select a specific sheet like this:\n"
   ]
  },
  {
   "cell_type": "code",
   "execution_count": 10,
   "metadata": {},
   "outputs": [
    {
     "data": {
      "text/plain": [
       "['Sheet']"
      ]
     },
     "execution_count": 10,
     "metadata": {},
     "output_type": "execute_result"
    },
    {
     "data": {
      "text/plain": [
       "['My Data']"
      ]
     },
     "execution_count": 10,
     "metadata": {},
     "output_type": "execute_result"
    }
   ],
   "source": [
    "# To get the sheet titles\n",
    "workbook.sheetnames\n",
    "\n",
    "# To select a sheet using its title\n",
    "sheet1 = workbook[\"Sheet\"]\n",
    "\n",
    "# To change a sheet title\n",
    "sheet1.title = \"My Data\"\n",
    "workbook.sheetnames\n"
   ]
  },
  {
   "cell_type": "markdown",
   "metadata": {},
   "source": [
    "You can create or delete sheets, using the methods  __`create_sheet()`__ and __`remove()`__:"
   ]
  },
  {
   "cell_type": "code",
   "execution_count": 11,
   "metadata": {},
   "outputs": [
    {
     "data": {
      "text/plain": [
       "['My Data', 'My Plots']"
      ]
     },
     "execution_count": 11,
     "metadata": {},
     "output_type": "execute_result"
    },
    {
     "data": {
      "text/plain": [
       "['Other', 'My Data', 'My Plots']"
      ]
     },
     "execution_count": 11,
     "metadata": {},
     "output_type": "execute_result"
    },
    {
     "data": {
      "text/plain": [
       "['My Data', 'My Plots']"
      ]
     },
     "execution_count": 11,
     "metadata": {},
     "output_type": "execute_result"
    }
   ],
   "source": [
    "plots_sheet = workbook.create_sheet(\"My Plots\")\n",
    "workbook.sheetnames\n",
    "\n",
    "\n",
    "# You can also define the position to create the sheet at\n",
    "other_sheet = workbook.create_sheet(\"Other\", 0)\n",
    "workbook.sheetnames\n",
    "\n",
    "\n",
    "# To remove them, just pass the sheet as an argument to the .remove()\n",
    "workbook.remove(other_sheet)\n",
    "workbook.sheetnames"
   ]
  },
  {
   "cell_type": "markdown",
   "metadata": {},
   "source": [
    "You can duplicate a sheet using __`copy_worksheet()`__"
   ]
  },
  {
   "cell_type": "code",
   "execution_count": 12,
   "metadata": {},
   "outputs": [
    {
     "data": {
      "text/plain": [
       "<Worksheet \"My Plots Copy\">"
      ]
     },
     "execution_count": 12,
     "metadata": {},
     "output_type": "execute_result"
    },
    {
     "data": {
      "text/plain": [
       "['My Data', 'My Plots', 'My Plots Copy']"
      ]
     },
     "execution_count": 12,
     "metadata": {},
     "output_type": "execute_result"
    }
   ],
   "source": [
    "plots_sheet = workbook[\"My Plots\"]\n",
    "workbook.copy_worksheet(plots_sheet)\n",
    "\n",
    "workbook.sheetnames"
   ]
  },
  {
   "cell_type": "markdown",
   "metadata": {},
   "source": [
    "### Freezing Rows and Columns\n",
    "\n",
    "You might want to freeze a few rows or columns, so they remain visible when you scroll right or down.\n",
    "\n",
    "Freezing data allows you to keep an eye on important rows or columns, regardless of where you scroll in the spreadsheet.\n",
    "\n",
    "You can accomplish this by using the worksheet __`freeze_panes`__ attribute:"
   ]
  },
  {
   "cell_type": "code",
   "execution_count": 16,
   "metadata": {},
   "outputs": [],
   "source": [
    "from openpyxl import load_workbook\n",
    "\n",
    "workbook = load_workbook(filename=\"sample.xlsx\")\n",
    "sheet = workbook.active\n",
    "sheet.freeze_panes = \"C3\"\n",
    "workbook.save(\"sample_frozen.xlsx\")"
   ]
  },
  {
   "cell_type": "markdown",
   "metadata": {},
   "source": [
    "In the `sample_frozen.xlsx` spreadsheet row 1 and row 2 and columns A and B are frozen and are always visible no matter where you navigate within the spreadsheet."
   ]
  },
  {
   "cell_type": "markdown",
   "metadata": {},
   "source": [
    "## Adding Formulas\n",
    "\n",
    "Formulas give us the power to apply specific mathematical equations to a range of cells. \n",
    "\n",
    "You can see the list of formulas supported by openpyxl by printing the `dict` __`openpyxl.utils.FORMULAE`__\n",
    "\n"
   ]
  },
  {
   "cell_type": "code",
   "execution_count": 23,
   "metadata": {},
   "outputs": [],
   "source": [
    "from openpyxl.utils import FORMULAE\n",
    "#FORMULAE\n",
    "\n",
    "from openpyxl import load_workbook\n",
    "\n",
    "workbook = load_workbook(filename=\"sample.xlsx\")\n",
    "sheet = workbook.active\n",
    "\n",
    "sheet[\"A703\"] = \"=AVERAGE(E2:E701)\"\n",
    "sheet[\"A704\"] = '=COUNTIF(E2:E701, \">2000\")'\n",
    "workbook.save(filename=\"sample_formulas.xlsx\")"
   ]
  },
  {
   "cell_type": "markdown",
   "metadata": {},
   "source": [
    "You’ll have to make sure that the strings within a formula are always in double quotes, so you either have to use single quotes around the formula like in the example above or you’ll have to escape the double quotes inside the formula."
   ]
  },
  {
   "cell_type": "markdown",
   "metadata": {},
   "source": [
    "### Adding Styles\n",
    "\n",
    "Using openpyxl, you can apply multiple styling options to your spreadsheet, including fonts, borders, colors, and so on. \n",
    "\n",
    "You can choose to either apply a style directly to a cell or create a template and reuse it to apply styles to multiple cells.\n"
   ]
  },
  {
   "cell_type": "code",
   "execution_count": 25,
   "metadata": {},
   "outputs": [],
   "source": [
    "# Import necessary style classes\n",
    "from openpyxl.styles import Font, Color, Alignment, Border, Side\n",
    "\n",
    "# Create a few styles\n",
    "bold_font = Font(bold=True)\n",
    "big_red_text = Font(color=\"00FF0000\", size=20)\n",
    "center_aligned_text = Alignment(horizontal=\"center\")\n",
    "double_border_side = Side(border_style=\"double\")\n",
    "square_border = Border(top=double_border_side,\n",
    "                       right=double_border_side,\n",
    "                       bottom=double_border_side,\n",
    "                       left=double_border_side)\n",
    "\n",
    "# Style some cells!\n",
    "sheet[\"A2\"].font = bold_font\n",
    "sheet[\"A3\"].font = big_red_text\n",
    "sheet[\"A4\"].alignment = center_aligned_text\n",
    "sheet[\"A5\"].border = square_border\n",
    "\n",
    "# Reusing the same styles \n",
    "sheet[\"A6\"].alignment = center_aligned_text\n",
    "sheet[\"A6\"].font = big_red_text\n",
    "sheet[\"A6\"].border = square_border\n",
    "\n",
    "workbook.save(filename=\"sample_styles.xlsx\")\n"
   ]
  },
  {
   "cell_type": "markdown",
   "metadata": {},
   "source": [
    "When you want to apply multiple styles to one or several cells, you can use the __`NamedStyle`__ class (a kind of style template)."
   ]
  },
  {
   "cell_type": "code",
   "execution_count": 36,
   "metadata": {},
   "outputs": [],
   "source": [
    "from openpyxl.styles import NamedStyle\n",
    "\n",
    "# A style template for the header row:\n",
    "# Create a NamedStyle \"header\" for the header row (if not already defined)\n",
    "if 'header' not in workbook.named_styles:\n",
    "    header = NamedStyle(name=\"header\")\n",
    "    header.font = Font(bold=True)\n",
    "    header.border = Border(bottom=Side(border_style=\"thin\"))\n",
    "    header.alignment = Alignment(horizontal=\"center\", vertical=\"center\")\n",
    "\n",
    "    # Now let's apply this to all first row (header) cells\n",
    "    header_row = sheet[1]\n",
    "    for cell in header_row:\n",
    "        cell.style = header\n",
    "\n",
    "workbook.save(filename=\"sample_styles.xlsx\")"
   ]
  },
  {
   "cell_type": "markdown",
   "metadata": {},
   "source": [
    "### Adding Images\n",
    "\n",
    "To be able to load images to a spreadsheet using openpyxl, you’ll have to install __`Pillow`__:\n",
    "\n",
    "`pip install Pillow`\n",
    "\n",
    "Apart from that, you’ll also need an image and use the method __`add_image()`__. "
   ]
  },
  {
   "cell_type": "code",
   "execution_count": 67,
   "metadata": {},
   "outputs": [],
   "source": [
    "from openpyxl import load_workbook\n",
    "from openpyxl.drawing.image import Image\n",
    "\n",
    "# Let's use the hello_world spreadsheet \n",
    "workbook = load_workbook(filename=\"hello_world.xlsx\")\n",
    "sheet = workbook.active\n",
    "\n",
    "logo = Image(\"epfl.png\")\n",
    "\n",
    "# A bit of resizing \n",
    "logo.height = 60\n",
    "logo.width = 150\n",
    "\n",
    "sheet.add_image(logo, \"C3\")\n",
    "workbook.save(filename=\"hello_world_logo.xlsx\")"
   ]
  },
  {
   "cell_type": "markdown",
   "metadata": {},
   "source": [
    "### Adding Charts\n",
    "\n",
    "Charts are a great way to visualize and understand loads of data quickly. There are a lot of different chart types: bar chart, pie chart, line chart, and so on. \n",
    "\n",
    "openpyxl has support for a lot (but not all) of them.\n",
    "\n",
    "openpyxl currently doesn’t have support for are Funnel, Gantt, Pareto, ...\n",
    "\n",
    "For any chart you want to build, you’ll need to define the chart type: BarChart, LineChart, and so forth, plus the data to be used for the chart, which is called a Reference.\n"
   ]
  },
  {
   "cell_type": "code",
   "execution_count": 68,
   "metadata": {},
   "outputs": [],
   "source": [
    "from openpyxl import Workbook\n",
    "from openpyxl.chart import BarChart, Reference\n",
    "\n",
    "workbook = Workbook()\n",
    "sheet = workbook.active\n",
    "\n",
    "# Let's create some sample sales data\n",
    "rows = [\n",
    "    [\"Product\", \"Online\", \"Store\"],\n",
    "    [1, 30, 45],\n",
    "    [2, 40, 30],\n",
    "    [3, 40, 25],\n",
    "    [4, 50, 30],\n",
    "    [5, 30, 25],\n",
    "    [6, 25, 35],\n",
    "    [7, 20, 40],\n",
    "]\n",
    "\n",
    "for row in rows:\n",
    "    sheet.append(row)\n",
    "\n",
    "# A bar chart that displays the total number of sales per product:\n",
    "chart = BarChart()\n",
    "data = Reference(worksheet=sheet,\n",
    "                 min_row=1,\n",
    "                 max_row=8,\n",
    "                 min_col=2,\n",
    "                 max_col=3)\n",
    "\n",
    "chart.add_data(data, titles_from_data=True)\n",
    "sheet.add_chart(chart, \"E2\")\n",
    "\n",
    "workbook.save(\"chart.xlsx\")"
   ]
  },
  {
   "cell_type": "markdown",
   "metadata": {},
   "source": [
    "In the same way we can quite simply create a  __line chart__.\n",
    "\n",
    "Here, we are using `from_rows=True` when adding the data. This argument makes the chart plot row by row instead of column by column (in our sample data, each product has a row with 12 values: 1 column per month). \n",
    "\n",
    "Here `min_col=1`: the chart expects the first column to have the titles.\n",
    "\n",
    "There are a couple of other things you can also change regarding the style of the chart. For example, you can add specific categories to the chart:\n",
    "\n"
   ]
  },
  {
   "cell_type": "code",
   "execution_count": 80,
   "metadata": {},
   "outputs": [],
   "source": [
    "from openpyxl import Workbook\n",
    "from openpyxl.chart import LineChart, Reference\n",
    "import random\n",
    "\n",
    "workbook = Workbook()\n",
    "sheet = workbook.active\n",
    "\n",
    "rows = [\n",
    "    [\"\", \"January\", \"February\", \"March\", \"April\",\n",
    "    \"May\", \"June\", \"July\", \"August\", \"September\",\n",
    "     \"October\", \"November\", \"December\"],\n",
    "    [1, ],\n",
    "    [2, ],\n",
    "    [3, ],\n",
    "]\n",
    "\n",
    "for row in rows:\n",
    "    sheet.append(row)\n",
    "for row in sheet.iter_rows(min_row=2,\n",
    "                           max_row=4,\n",
    "                           min_col=2,\n",
    "                           max_col=13):\n",
    "    for cell in row:\n",
    "        cell.value = random.randrange(5, 100)\n",
    "        \n",
    "chart = LineChart()\n",
    "\n",
    "data = Reference(worksheet=sheet,\n",
    "                 min_row=2,\n",
    "                 max_row=4,\n",
    "                 min_col=1,\n",
    "                 max_col=13)\n",
    "\n",
    "chart.add_data(data, from_rows=True, titles_from_data=True)\n",
    "\n",
    "cats = Reference(worksheet=sheet,\n",
    "                 min_row=1,\n",
    "                 max_row=1,\n",
    "                 min_col=2,\n",
    "                 max_col=13)\n",
    "chart.set_categories(cats)\n",
    "\n",
    "chart.x_axis.title = \"Months\"\n",
    "chart.y_axis.title = \"Sales (per unit)\"\n",
    "\n",
    "sheet.add_chart(chart, \"C6\")\n",
    "\n",
    "workbook.save(\"line_chart.xlsx\")"
   ]
  },
  {
   "cell_type": "markdown",
   "metadata": {},
   "source": [
    "### Pandas DataFrame\n",
    "\n",
    "openpyxl has support for both converting data from a Pandas DataFrame into a workbook or the opposite, converting an openpyxl workbook into a Pandas DataFrame.\n",
    "\n"
   ]
  },
  {
   "cell_type": "code",
   "execution_count": 92,
   "metadata": {},
   "outputs": [
    {
     "name": "stdout",
     "output_type": "stream",
     "text": [
      "  Product Name  Sales Month 1  Sales Month 2\n",
      "0    Product 1             10              5\n",
      "1    Product 2             20             35\n"
     ]
    },
    {
     "ename": "PermissionError",
     "evalue": "[Errno 13] Permission denied: 'pandas.xlsx'",
     "output_type": "error",
     "traceback": [
      "\u001b[1;31m---------------------------------------------------------------------------\u001b[0m",
      "\u001b[1;31mPermissionError\u001b[0m                           Traceback (most recent call last)",
      "\u001b[1;32m<ipython-input-92-100e0f0d500d>\u001b[0m in \u001b[0;36m<module>\u001b[1;34m\u001b[0m\n\u001b[0;32m     16\u001b[0m     \u001b[0msheet\u001b[0m\u001b[1;33m.\u001b[0m\u001b[0mappend\u001b[0m\u001b[1;33m(\u001b[0m\u001b[0mrow\u001b[0m\u001b[1;33m)\u001b[0m\u001b[1;33m\u001b[0m\u001b[1;33m\u001b[0m\u001b[0m\n\u001b[0;32m     17\u001b[0m \u001b[1;33m\u001b[0m\u001b[0m\n\u001b[1;32m---> 18\u001b[1;33m \u001b[0mworkbook\u001b[0m\u001b[1;33m.\u001b[0m\u001b[0msave\u001b[0m\u001b[1;33m(\u001b[0m\u001b[1;34m\"pandas.xlsx\"\u001b[0m\u001b[1;33m)\u001b[0m\u001b[1;33m\u001b[0m\u001b[1;33m\u001b[0m\u001b[0m\n\u001b[0m",
      "\u001b[1;32mC:\\Anaconda3\\lib\\site-packages\\openpyxl\\workbook\\workbook.py\u001b[0m in \u001b[0;36msave\u001b[1;34m(self, filename)\u001b[0m\n\u001b[0;32m    390\u001b[0m         \u001b[1;32mif\u001b[0m \u001b[0mself\u001b[0m\u001b[1;33m.\u001b[0m\u001b[0mwrite_only\u001b[0m \u001b[1;32mand\u001b[0m \u001b[1;32mnot\u001b[0m \u001b[0mself\u001b[0m\u001b[1;33m.\u001b[0m\u001b[0mworksheets\u001b[0m\u001b[1;33m:\u001b[0m\u001b[1;33m\u001b[0m\u001b[1;33m\u001b[0m\u001b[0m\n\u001b[0;32m    391\u001b[0m             \u001b[0mself\u001b[0m\u001b[1;33m.\u001b[0m\u001b[0mcreate_sheet\u001b[0m\u001b[1;33m(\u001b[0m\u001b[1;33m)\u001b[0m\u001b[1;33m\u001b[0m\u001b[1;33m\u001b[0m\u001b[0m\n\u001b[1;32m--> 392\u001b[1;33m         \u001b[0msave_workbook\u001b[0m\u001b[1;33m(\u001b[0m\u001b[0mself\u001b[0m\u001b[1;33m,\u001b[0m \u001b[0mfilename\u001b[0m\u001b[1;33m)\u001b[0m\u001b[1;33m\u001b[0m\u001b[1;33m\u001b[0m\u001b[0m\n\u001b[0m\u001b[0;32m    393\u001b[0m \u001b[1;33m\u001b[0m\u001b[0m\n\u001b[0;32m    394\u001b[0m \u001b[1;33m\u001b[0m\u001b[0m\n",
      "\u001b[1;32mC:\\Anaconda3\\lib\\site-packages\\openpyxl\\writer\\excel.py\u001b[0m in \u001b[0;36msave_workbook\u001b[1;34m(workbook, filename)\u001b[0m\n\u001b[0;32m    289\u001b[0m \u001b[1;33m\u001b[0m\u001b[0m\n\u001b[0;32m    290\u001b[0m     \"\"\"\n\u001b[1;32m--> 291\u001b[1;33m     \u001b[0marchive\u001b[0m \u001b[1;33m=\u001b[0m \u001b[0mZipFile\u001b[0m\u001b[1;33m(\u001b[0m\u001b[0mfilename\u001b[0m\u001b[1;33m,\u001b[0m \u001b[1;34m'w'\u001b[0m\u001b[1;33m,\u001b[0m \u001b[0mZIP_DEFLATED\u001b[0m\u001b[1;33m,\u001b[0m \u001b[0mallowZip64\u001b[0m\u001b[1;33m=\u001b[0m\u001b[1;32mTrue\u001b[0m\u001b[1;33m)\u001b[0m\u001b[1;33m\u001b[0m\u001b[1;33m\u001b[0m\u001b[0m\n\u001b[0m\u001b[0;32m    292\u001b[0m     \u001b[0mwriter\u001b[0m \u001b[1;33m=\u001b[0m \u001b[0mExcelWriter\u001b[0m\u001b[1;33m(\u001b[0m\u001b[0mworkbook\u001b[0m\u001b[1;33m,\u001b[0m \u001b[0marchive\u001b[0m\u001b[1;33m)\u001b[0m\u001b[1;33m\u001b[0m\u001b[1;33m\u001b[0m\u001b[0m\n\u001b[0;32m    293\u001b[0m     \u001b[0mwriter\u001b[0m\u001b[1;33m.\u001b[0m\u001b[0msave\u001b[0m\u001b[1;33m(\u001b[0m\u001b[1;33m)\u001b[0m\u001b[1;33m\u001b[0m\u001b[1;33m\u001b[0m\u001b[0m\n",
      "\u001b[1;32mC:\\Anaconda3\\lib\\zipfile.py\u001b[0m in \u001b[0;36m__init__\u001b[1;34m(self, file, mode, compression, allowZip64, compresslevel)\u001b[0m\n\u001b[0;32m   1202\u001b[0m             \u001b[1;32mwhile\u001b[0m \u001b[1;32mTrue\u001b[0m\u001b[1;33m:\u001b[0m\u001b[1;33m\u001b[0m\u001b[1;33m\u001b[0m\u001b[0m\n\u001b[0;32m   1203\u001b[0m                 \u001b[1;32mtry\u001b[0m\u001b[1;33m:\u001b[0m\u001b[1;33m\u001b[0m\u001b[1;33m\u001b[0m\u001b[0m\n\u001b[1;32m-> 1204\u001b[1;33m                     \u001b[0mself\u001b[0m\u001b[1;33m.\u001b[0m\u001b[0mfp\u001b[0m \u001b[1;33m=\u001b[0m \u001b[0mio\u001b[0m\u001b[1;33m.\u001b[0m\u001b[0mopen\u001b[0m\u001b[1;33m(\u001b[0m\u001b[0mfile\u001b[0m\u001b[1;33m,\u001b[0m \u001b[0mfilemode\u001b[0m\u001b[1;33m)\u001b[0m\u001b[1;33m\u001b[0m\u001b[1;33m\u001b[0m\u001b[0m\n\u001b[0m\u001b[0;32m   1205\u001b[0m                 \u001b[1;32mexcept\u001b[0m \u001b[0mOSError\u001b[0m\u001b[1;33m:\u001b[0m\u001b[1;33m\u001b[0m\u001b[1;33m\u001b[0m\u001b[0m\n\u001b[0;32m   1206\u001b[0m                     \u001b[1;32mif\u001b[0m \u001b[0mfilemode\u001b[0m \u001b[1;32min\u001b[0m \u001b[0mmodeDict\u001b[0m\u001b[1;33m:\u001b[0m\u001b[1;33m\u001b[0m\u001b[1;33m\u001b[0m\u001b[0m\n",
      "\u001b[1;31mPermissionError\u001b[0m: [Errno 13] Permission denied: 'pandas.xlsx'"
     ]
    }
   ],
   "source": [
    "from openpyxl import Workbook\n",
    "from openpyxl.utils.dataframe import dataframe_to_rows\n",
    "import pandas as pd\n",
    "\n",
    "data = {\n",
    "    \"Product Name\": [\"Product 1\", \"Product 2\"],\n",
    "    \"Sales Month 1\": [10, 20],\n",
    "    \"Sales Month 2\": [5, 35],\n",
    "}\n",
    "df = pd.DataFrame(data)\n",
    "print(df)\n",
    "workbook = Workbook()\n",
    "sheet = workbook.active\n",
    "\n",
    "for row in dataframe_to_rows(df, index=False, header=True):\n",
    "    sheet.append(row)\n",
    "\n",
    "workbook.save(\"pandas.xlsx\")"
   ]
  },
  {
   "cell_type": "markdown",
   "metadata": {},
   "source": [
    "If you want to convert a spreadsheet into a DataFrame, you can also do it in a very straightforward way"
   ]
  },
  {
   "cell_type": "code",
   "execution_count": 91,
   "metadata": {},
   "outputs": [
    {
     "name": "stdout",
     "output_type": "stream",
     "text": [
      "  Product Name  Sales Month 1  Sales Month 2\n",
      "0    Product 1             10              5\n",
      "1    Product 2             20             35\n"
     ]
    }
   ],
   "source": [
    "import pandas as pd\n",
    "from openpyxl import load_workbook\n",
    "\n",
    "workbook = load_workbook(filename=\"pandas.xlsx\")\n",
    "sheet = workbook.active\n",
    "\n",
    "data = sheet.values\n",
    "cols = next(data)\n",
    "data = list(data)\n",
    "\n",
    "df = pd.DataFrame(data, columns=cols)\n",
    "\n",
    "print(df)"
   ]
  },
  {
   "cell_type": "code",
   "execution_count": null,
   "metadata": {},
   "outputs": [],
   "source": []
  }
 ],
 "metadata": {
  "kernelspec": {
   "display_name": "Python 3",
   "language": "python",
   "name": "python3"
  },
  "language_info": {
   "codemirror_mode": {
    "name": "ipython",
    "version": 3
   },
   "file_extension": ".py",
   "mimetype": "text/x-python",
   "name": "python",
   "nbconvert_exporter": "python",
   "pygments_lexer": "ipython3",
   "version": "3.7.1"
  }
 },
 "nbformat": 4,
 "nbformat_minor": 2
}
